{
 "cells": [
  {
   "cell_type": "markdown",
   "metadata": {},
   "source": [
    "Ejercicio - Escribir declaraciones if, else, y elif"
   ]
  },
  {
   "cell_type": "code",
   "execution_count": 5,
   "metadata": {},
   "outputs": [
    {
     "name": "stdout",
     "output_type": "stream",
     "text": [
      "Se acerca un asteroide de manera peligrosa\n"
     ]
    }
   ],
   "source": [
    "asteroide = 49\n",
    "if asteroide > 25:\n",
    "    print(\"Se acerca un asteroide de manera peligrosa\")\n",
    "else:\n",
    "    print(\"Continua con tu día\")\n",
    "    \n",
    "    "
   ]
  },
  {
   "cell_type": "code",
   "execution_count": 6,
   "metadata": {},
   "outputs": [
    {
     "name": "stdout",
     "output_type": "stream",
     "text": [
      "Continua con tu día\n"
     ]
    }
   ],
   "source": [
    "asteroide = 19\n",
    "\n",
    "if asteroide > 20:\n",
    "    print(\"Hay una luz en el cielo\")\n",
    "elif asteroide == 20:\n",
    "    print (\"Hay una luz en el cielo\")\n",
    "else:\n",
    "    print(\"Continua con tu día\")"
   ]
  },
  {
   "cell_type": "markdown",
   "metadata": {},
   "source": [
    "Ejercicio: Uso de operadores and y or"
   ]
  },
  {
   "cell_type": "code",
   "execution_count": 7,
   "metadata": {},
   "outputs": [
    {
     "name": "stdout",
     "output_type": "stream",
     "text": [
      "Hay una luz en el cielo\n"
     ]
    }
   ],
   "source": [
    "vel_asteroide = 25\n",
    "\n",
    "tam_asteroide = 40\n",
    "\n",
    "if vel_asteroide > 25 and tam_asteroide > 25:\n",
    "    print('Un asteroide muy peligroso viene hacia la Tierra')\n",
    "elif vel_asteroide >= 20:\n",
    "    print('Hay una luz en el cielo')\n",
    "elif tam_asteroide < 25:\n",
    "    print('Continua con tu día')\n",
    "else:\n",
    "    print('Continua con tu día')"
   ]
  }
 ],
 "metadata": {
  "interpreter": {
   "hash": "50b9b10206c699ef80b3a7ce41d8644508530610ad055b074499a86b37dc161a"
  },
  "kernelspec": {
   "display_name": "Python 3.9.10 64-bit",
   "language": "python",
   "name": "python3"
  },
  "language_info": {
   "codemirror_mode": {
    "name": "ipython",
    "version": 3
   },
   "file_extension": ".py",
   "mimetype": "text/x-python",
   "name": "python",
   "nbconvert_exporter": "python",
   "pygments_lexer": "ipython3",
   "version": "3.9.10"
  },
  "orig_nbformat": 4
 },
 "nbformat": 4,
 "nbformat_minor": 2
}
