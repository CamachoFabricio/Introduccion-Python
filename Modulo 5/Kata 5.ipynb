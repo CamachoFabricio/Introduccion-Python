{
 "cells": [
  {
   "cell_type": "markdown",
   "metadata": {},
   "source": [
    "Ejercicio1 - Utilizar operadores aritméticos"
   ]
  },
  {
   "cell_type": "code",
   "execution_count": 16,
   "metadata": {},
   "outputs": [
    {
     "name": "stdout",
     "output_type": "stream",
     "text": [
      "628949330\n",
      "390577533.93\n"
     ]
    }
   ],
   "source": [
    "tierra = 149597870 \n",
    "jupiter = 778547200\n",
    "\n",
    "distancia_km = (tierra - jupiter)\n",
    "distancia_millas = (tierra - jupiter) * 0.621\n",
    "\n",
    "print(abs(distancia_km))\n",
    "\n",
    "print(abs(distancia_millas))"
   ]
  },
  {
   "cell_type": "markdown",
   "metadata": {},
   "source": [
    "Ejercicio 2: convierte cadenas en números y usa valores absolutos"
   ]
  },
  {
   "cell_type": "code",
   "execution_count": 23,
   "metadata": {},
   "outputs": [
    {
     "name": "stdout",
     "output_type": "stream",
     "text": [
      "629000000\n",
      "390609000.0\n"
     ]
    }
   ],
   "source": [
    "tierra = input('Ingresa la distancia del sol para el planeta tierra en km')\n",
    "jupiter = input('Ingresa la distancia del sol para el planeta jupiter en km')\n",
    "\n",
    "tierra = int(tierra)\n",
    "jupiter = int(jupiter)\n",
    "\n",
    "distancia_km = (tierra - jupiter)\n",
    "distancia_millas = (tierra - jupiter) * 0.621\n",
    "\n",
    "print(abs(distancia_km))\n",
    "print(abs(distancia_millas))"
   ]
  }
 ],
 "metadata": {
  "interpreter": {
   "hash": "2da38c19a61239c4fe715abd70b3adfd6a14bfbfc75946d87b91b36b89200c5e"
  },
  "kernelspec": {
   "display_name": "Python 3.9.7 ('base')",
   "language": "python",
   "name": "python3"
  },
  "language_info": {
   "codemirror_mode": {
    "name": "ipython",
    "version": 3
   },
   "file_extension": ".py",
   "mimetype": "text/x-python",
   "name": "python",
   "nbconvert_exporter": "python",
   "pygments_lexer": "ipython3",
   "version": "3.9.7"
  },
  "orig_nbformat": 4
 },
 "nbformat": 4,
 "nbformat_minor": 2
}
